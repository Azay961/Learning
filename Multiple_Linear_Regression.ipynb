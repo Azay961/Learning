{
  "nbformat": 4,
  "nbformat_minor": 0,
  "metadata": {
    "colab": {
      "provenance": []
    },
    "kernelspec": {
      "name": "python3",
      "display_name": "Python 3"
    },
    "language_info": {
      "name": "python"
    }
  },
  "cells": [
    {
      "cell_type": "code",
      "execution_count": 18,
      "metadata": {
        "id": "n1XTYuofLWes"
      },
      "outputs": [],
      "source": [
        "import numpy as np\n",
        "import pandas as pd\n",
        "import matplotlib as mpl\n",
        "import matplotlib.pyplot as plt\n",
        "import seaborn as sns\n",
        "import warnings\n",
        "warnings.filterwarnings('ignore')\n",
        "import IPython\n",
        "from IPython.display import HTML, display\n",
        "\n",
        "pd.set_option('display.max_columns', None)"
      ]
    },
    {
      "cell_type": "code",
      "source": [],
      "metadata": {
        "id": "7OcaWWGu5mb8"
      },
      "execution_count": null,
      "outputs": []
    },
    {
      "cell_type": "code",
      "source": [
        "data_path = \"https://www.statlearning.com/s/Advertising.csv\"\n",
        "\n",
        "df = pd.read_csv(data_path, index_col=0)\n",
        "df.head()"
      ],
      "metadata": {
        "colab": {
          "base_uri": "https://localhost:8080/",
          "height": 206
        },
        "id": "gA-U5HcdQK3k",
        "outputId": "5168622d-b34d-4e0c-a287-e2c48f22cca9"
      },
      "execution_count": 2,
      "outputs": [
        {
          "output_type": "execute_result",
          "data": {
            "text/plain": [
              "      TV  radio  newspaper  sales\n",
              "1  230.1   37.8       69.2   22.1\n",
              "2   44.5   39.3       45.1   10.4\n",
              "3   17.2   45.9       69.3    9.3\n",
              "4  151.5   41.3       58.5   18.5\n",
              "5  180.8   10.8       58.4   12.9"
            ],
            "text/html": [
              "\n",
              "  <div id=\"df-cfaa46cb-5119-48e2-b19b-3998078741f9\" class=\"colab-df-container\">\n",
              "    <div>\n",
              "<style scoped>\n",
              "    .dataframe tbody tr th:only-of-type {\n",
              "        vertical-align: middle;\n",
              "    }\n",
              "\n",
              "    .dataframe tbody tr th {\n",
              "        vertical-align: top;\n",
              "    }\n",
              "\n",
              "    .dataframe thead th {\n",
              "        text-align: right;\n",
              "    }\n",
              "</style>\n",
              "<table border=\"1\" class=\"dataframe\">\n",
              "  <thead>\n",
              "    <tr style=\"text-align: right;\">\n",
              "      <th></th>\n",
              "      <th>TV</th>\n",
              "      <th>radio</th>\n",
              "      <th>newspaper</th>\n",
              "      <th>sales</th>\n",
              "    </tr>\n",
              "  </thead>\n",
              "  <tbody>\n",
              "    <tr>\n",
              "      <th>1</th>\n",
              "      <td>230.1</td>\n",
              "      <td>37.8</td>\n",
              "      <td>69.2</td>\n",
              "      <td>22.1</td>\n",
              "    </tr>\n",
              "    <tr>\n",
              "      <th>2</th>\n",
              "      <td>44.5</td>\n",
              "      <td>39.3</td>\n",
              "      <td>45.1</td>\n",
              "      <td>10.4</td>\n",
              "    </tr>\n",
              "    <tr>\n",
              "      <th>3</th>\n",
              "      <td>17.2</td>\n",
              "      <td>45.9</td>\n",
              "      <td>69.3</td>\n",
              "      <td>9.3</td>\n",
              "    </tr>\n",
              "    <tr>\n",
              "      <th>4</th>\n",
              "      <td>151.5</td>\n",
              "      <td>41.3</td>\n",
              "      <td>58.5</td>\n",
              "      <td>18.5</td>\n",
              "    </tr>\n",
              "    <tr>\n",
              "      <th>5</th>\n",
              "      <td>180.8</td>\n",
              "      <td>10.8</td>\n",
              "      <td>58.4</td>\n",
              "      <td>12.9</td>\n",
              "    </tr>\n",
              "  </tbody>\n",
              "</table>\n",
              "</div>\n",
              "    <div class=\"colab-df-buttons\">\n",
              "\n",
              "  <div class=\"colab-df-container\">\n",
              "    <button class=\"colab-df-convert\" onclick=\"convertToInteractive('df-cfaa46cb-5119-48e2-b19b-3998078741f9')\"\n",
              "            title=\"Convert this dataframe to an interactive table.\"\n",
              "            style=\"display:none;\">\n",
              "\n",
              "  <svg xmlns=\"http://www.w3.org/2000/svg\" height=\"24px\" viewBox=\"0 -960 960 960\">\n",
              "    <path d=\"M120-120v-720h720v720H120Zm60-500h600v-160H180v160Zm220 220h160v-160H400v160Zm0 220h160v-160H400v160ZM180-400h160v-160H180v160Zm440 0h160v-160H620v160ZM180-180h160v-160H180v160Zm440 0h160v-160H620v160Z\"/>\n",
              "  </svg>\n",
              "    </button>\n",
              "\n",
              "  <style>\n",
              "    .colab-df-container {\n",
              "      display:flex;\n",
              "      gap: 12px;\n",
              "    }\n",
              "\n",
              "    .colab-df-convert {\n",
              "      background-color: #E8F0FE;\n",
              "      border: none;\n",
              "      border-radius: 50%;\n",
              "      cursor: pointer;\n",
              "      display: none;\n",
              "      fill: #1967D2;\n",
              "      height: 32px;\n",
              "      padding: 0 0 0 0;\n",
              "      width: 32px;\n",
              "    }\n",
              "\n",
              "    .colab-df-convert:hover {\n",
              "      background-color: #E2EBFA;\n",
              "      box-shadow: 0px 1px 2px rgba(60, 64, 67, 0.3), 0px 1px 3px 1px rgba(60, 64, 67, 0.15);\n",
              "      fill: #174EA6;\n",
              "    }\n",
              "\n",
              "    .colab-df-buttons div {\n",
              "      margin-bottom: 4px;\n",
              "    }\n",
              "\n",
              "    [theme=dark] .colab-df-convert {\n",
              "      background-color: #3B4455;\n",
              "      fill: #D2E3FC;\n",
              "    }\n",
              "\n",
              "    [theme=dark] .colab-df-convert:hover {\n",
              "      background-color: #434B5C;\n",
              "      box-shadow: 0px 1px 3px 1px rgba(0, 0, 0, 0.15);\n",
              "      filter: drop-shadow(0px 1px 2px rgba(0, 0, 0, 0.3));\n",
              "      fill: #FFFFFF;\n",
              "    }\n",
              "  </style>\n",
              "\n",
              "    <script>\n",
              "      const buttonEl =\n",
              "        document.querySelector('#df-cfaa46cb-5119-48e2-b19b-3998078741f9 button.colab-df-convert');\n",
              "      buttonEl.style.display =\n",
              "        google.colab.kernel.accessAllowed ? 'block' : 'none';\n",
              "\n",
              "      async function convertToInteractive(key) {\n",
              "        const element = document.querySelector('#df-cfaa46cb-5119-48e2-b19b-3998078741f9');\n",
              "        const dataTable =\n",
              "          await google.colab.kernel.invokeFunction('convertToInteractive',\n",
              "                                                    [key], {});\n",
              "        if (!dataTable) return;\n",
              "\n",
              "        const docLinkHtml = 'Like what you see? Visit the ' +\n",
              "          '<a target=\"_blank\" href=https://colab.research.google.com/notebooks/data_table.ipynb>data table notebook</a>'\n",
              "          + ' to learn more about interactive tables.';\n",
              "        element.innerHTML = '';\n",
              "        dataTable['output_type'] = 'display_data';\n",
              "        await google.colab.output.renderOutput(dataTable, element);\n",
              "        const docLink = document.createElement('div');\n",
              "        docLink.innerHTML = docLinkHtml;\n",
              "        element.appendChild(docLink);\n",
              "      }\n",
              "    </script>\n",
              "  </div>\n",
              "\n",
              "\n",
              "<div id=\"df-75fd2b04-30fc-4277-a518-15015c22f490\">\n",
              "  <button class=\"colab-df-quickchart\" onclick=\"quickchart('df-75fd2b04-30fc-4277-a518-15015c22f490')\"\n",
              "            title=\"Suggest charts\"\n",
              "            style=\"display:none;\">\n",
              "\n",
              "<svg xmlns=\"http://www.w3.org/2000/svg\" height=\"24px\"viewBox=\"0 0 24 24\"\n",
              "     width=\"24px\">\n",
              "    <g>\n",
              "        <path d=\"M19 3H5c-1.1 0-2 .9-2 2v14c0 1.1.9 2 2 2h14c1.1 0 2-.9 2-2V5c0-1.1-.9-2-2-2zM9 17H7v-7h2v7zm4 0h-2V7h2v10zm4 0h-2v-4h2v4z\"/>\n",
              "    </g>\n",
              "</svg>\n",
              "  </button>\n",
              "\n",
              "<style>\n",
              "  .colab-df-quickchart {\n",
              "      --bg-color: #E8F0FE;\n",
              "      --fill-color: #1967D2;\n",
              "      --hover-bg-color: #E2EBFA;\n",
              "      --hover-fill-color: #174EA6;\n",
              "      --disabled-fill-color: #AAA;\n",
              "      --disabled-bg-color: #DDD;\n",
              "  }\n",
              "\n",
              "  [theme=dark] .colab-df-quickchart {\n",
              "      --bg-color: #3B4455;\n",
              "      --fill-color: #D2E3FC;\n",
              "      --hover-bg-color: #434B5C;\n",
              "      --hover-fill-color: #FFFFFF;\n",
              "      --disabled-bg-color: #3B4455;\n",
              "      --disabled-fill-color: #666;\n",
              "  }\n",
              "\n",
              "  .colab-df-quickchart {\n",
              "    background-color: var(--bg-color);\n",
              "    border: none;\n",
              "    border-radius: 50%;\n",
              "    cursor: pointer;\n",
              "    display: none;\n",
              "    fill: var(--fill-color);\n",
              "    height: 32px;\n",
              "    padding: 0;\n",
              "    width: 32px;\n",
              "  }\n",
              "\n",
              "  .colab-df-quickchart:hover {\n",
              "    background-color: var(--hover-bg-color);\n",
              "    box-shadow: 0 1px 2px rgba(60, 64, 67, 0.3), 0 1px 3px 1px rgba(60, 64, 67, 0.15);\n",
              "    fill: var(--button-hover-fill-color);\n",
              "  }\n",
              "\n",
              "  .colab-df-quickchart-complete:disabled,\n",
              "  .colab-df-quickchart-complete:disabled:hover {\n",
              "    background-color: var(--disabled-bg-color);\n",
              "    fill: var(--disabled-fill-color);\n",
              "    box-shadow: none;\n",
              "  }\n",
              "\n",
              "  .colab-df-spinner {\n",
              "    border: 2px solid var(--fill-color);\n",
              "    border-color: transparent;\n",
              "    border-bottom-color: var(--fill-color);\n",
              "    animation:\n",
              "      spin 1s steps(1) infinite;\n",
              "  }\n",
              "\n",
              "  @keyframes spin {\n",
              "    0% {\n",
              "      border-color: transparent;\n",
              "      border-bottom-color: var(--fill-color);\n",
              "      border-left-color: var(--fill-color);\n",
              "    }\n",
              "    20% {\n",
              "      border-color: transparent;\n",
              "      border-left-color: var(--fill-color);\n",
              "      border-top-color: var(--fill-color);\n",
              "    }\n",
              "    30% {\n",
              "      border-color: transparent;\n",
              "      border-left-color: var(--fill-color);\n",
              "      border-top-color: var(--fill-color);\n",
              "      border-right-color: var(--fill-color);\n",
              "    }\n",
              "    40% {\n",
              "      border-color: transparent;\n",
              "      border-right-color: var(--fill-color);\n",
              "      border-top-color: var(--fill-color);\n",
              "    }\n",
              "    60% {\n",
              "      border-color: transparent;\n",
              "      border-right-color: var(--fill-color);\n",
              "    }\n",
              "    80% {\n",
              "      border-color: transparent;\n",
              "      border-right-color: var(--fill-color);\n",
              "      border-bottom-color: var(--fill-color);\n",
              "    }\n",
              "    90% {\n",
              "      border-color: transparent;\n",
              "      border-bottom-color: var(--fill-color);\n",
              "    }\n",
              "  }\n",
              "</style>\n",
              "\n",
              "  <script>\n",
              "    async function quickchart(key) {\n",
              "      const quickchartButtonEl =\n",
              "        document.querySelector('#' + key + ' button');\n",
              "      quickchartButtonEl.disabled = true;  // To prevent multiple clicks.\n",
              "      quickchartButtonEl.classList.add('colab-df-spinner');\n",
              "      try {\n",
              "        const charts = await google.colab.kernel.invokeFunction(\n",
              "            'suggestCharts', [key], {});\n",
              "      } catch (error) {\n",
              "        console.error('Error during call to suggestCharts:', error);\n",
              "      }\n",
              "      quickchartButtonEl.classList.remove('colab-df-spinner');\n",
              "      quickchartButtonEl.classList.add('colab-df-quickchart-complete');\n",
              "    }\n",
              "    (() => {\n",
              "      let quickchartButtonEl =\n",
              "        document.querySelector('#df-75fd2b04-30fc-4277-a518-15015c22f490 button');\n",
              "      quickchartButtonEl.style.display =\n",
              "        google.colab.kernel.accessAllowed ? 'block' : 'none';\n",
              "    })();\n",
              "  </script>\n",
              "</div>\n",
              "\n",
              "    </div>\n",
              "  </div>\n"
            ],
            "application/vnd.google.colaboratory.intrinsic+json": {
              "type": "dataframe",
              "variable_name": "df",
              "summary": "{\n  \"name\": \"df\",\n  \"rows\": 200,\n  \"fields\": [\n    {\n      \"column\": \"TV\",\n      \"properties\": {\n        \"dtype\": \"number\",\n        \"std\": 85.85423631490808,\n        \"min\": 0.7,\n        \"max\": 296.4,\n        \"num_unique_values\": 190,\n        \"samples\": [\n          287.6,\n          286.0,\n          78.2\n        ],\n        \"semantic_type\": \"\",\n        \"description\": \"\"\n      }\n    },\n    {\n      \"column\": \"radio\",\n      \"properties\": {\n        \"dtype\": \"number\",\n        \"std\": 14.846809176168724,\n        \"min\": 0.0,\n        \"max\": 49.6,\n        \"num_unique_values\": 167,\n        \"samples\": [\n          8.2,\n          36.9,\n          44.5\n        ],\n        \"semantic_type\": \"\",\n        \"description\": \"\"\n      }\n    },\n    {\n      \"column\": \"newspaper\",\n      \"properties\": {\n        \"dtype\": \"number\",\n        \"std\": 21.778620838522826,\n        \"min\": 0.3,\n        \"max\": 114.0,\n        \"num_unique_values\": 172,\n        \"samples\": [\n          22.3,\n          5.7,\n          17.0\n        ],\n        \"semantic_type\": \"\",\n        \"description\": \"\"\n      }\n    },\n    {\n      \"column\": \"sales\",\n      \"properties\": {\n        \"dtype\": \"number\",\n        \"std\": 5.217456565710478,\n        \"min\": 1.6,\n        \"max\": 27.0,\n        \"num_unique_values\": 121,\n        \"samples\": [\n          11.4,\n          21.2,\n          12.9\n        ],\n        \"semantic_type\": \"\",\n        \"description\": \"\"\n      }\n    }\n  ]\n}"
            }
          },
          "metadata": {},
          "execution_count": 2
        }
      ]
    },
    {
      "cell_type": "code",
      "source": [
        "plt.figure(figsize=(15,4))\n",
        "gs = plt.GridSpec(1,3)\n",
        "\n",
        "# plot of sales vs TV\n",
        "ax1 = plt.subplot(gs[0])\n",
        "ax1.scatter(df['TV'], df['sales'], color='red', marker='.')\n",
        "ax1.set_xlabel('TV')\n",
        "ax1.set_ylabel('Sales')\n",
        "\n",
        "# plot of sales vs newspaper\n",
        "ax2 = plt.subplot(gs[1])\n",
        "ax2.scatter(df['newspaper'], df['sales'], color='blue', marker='.')\n",
        "ax2.set_xlabel('newspaper')\n",
        "\n",
        "\n",
        "# plot of sales vs radio\n",
        "ax3 = plt.subplot(gs[2])\n",
        "ax3.scatter(df['radio'], df['sales'], color='green', marker='.')\n",
        "ax3.set_xlabel('radio')\n",
        "\n",
        "plt.show()"
      ],
      "metadata": {
        "colab": {
          "base_uri": "https://localhost:8080/",
          "height": 388
        },
        "id": "r61netdjQWSp",
        "outputId": "8462504a-c98d-431c-c98f-d7cdc39897a1"
      },
      "execution_count": 3,
      "outputs": [
        {
          "output_type": "display_data",
          "data": {
            "text/plain": [
              "<Figure size 1500x400 with 3 Axes>"
            ],
            "image/png": "[encoded data removed]"
          },
          "metadata": {}
        }
      ]
    },
    {
      "cell_type": "markdown",
      "source": [
        "## Observation\n",
        "The first plot shows a sharp upward trend in the number of units sold as TV advertising increases. Similar trends is observed in radio as advertising increases. However in the second plot, it doesn't show the realtionship between newspaper advertising and number if units sold."
      ],
      "metadata": {
        "id": "8xdSYSjUyjrC"
      }
    },
    {
      "cell_type": "markdown",
      "source": [
        "## Multiple Linear Regression using Ordinary Least Squares"
      ],
      "metadata": {
        "id": "ElHl8DwGSMNB"
      }
    },
    {
      "cell_type": "code",
      "source": [
        "# Training LR using TV and Radio features\n",
        "X = df[['TV', 'radio']]\n",
        "y = df['sales']\n",
        "\n",
        "#setting intercept/bias term to 1 for each sample\n",
        "X = np.c_[np.ones((X.shape[0], 1)), X]\n",
        "X_transpose = np.transpose(X)\n",
        "\n",
        "# implementing least square solution of matrix form\n",
        "betas = np.linalg.inv(X_transpose.dot(X)).dot(X_transpose).dot(y)\n",
        "\n",
        "\n",
        "message = \"\"\"<strong>TV and Radio</strong> <br>\n",
        "$y$ = {:.2f} + {:.2f}$x_{{1}}$ + {:.2f}$x_{{2}}$ <br>\n",
        "$x_{{1}}$ = TV <br>\n",
        "$x_{{2}}$ = radio\n",
        "\"\"\".format(betas[0], betas[1], betas[2])\n",
        "display(HTML( message ))\n",
        "\n",
        "print(\"\")\n",
        "\n",
        "\n",
        "# # Training Linear Regression using all features\n",
        "X = df[[\"TV\", \"radio\", \"newspaper\"]]\n",
        "y = df[[\"sales\"]]\n",
        "\n",
        "# set bias/intercept  term to 1 for each 200 samples\n",
        "X = np.c_[np.ones((X.shape[0], 1)), X]\n",
        "X_transpose = np.transpose(X)\n",
        "\n",
        "\n",
        "# implementing least square solution of matrix form\n",
        "betas = np.linalg.inv(X_transpose.dot(X)).dot(X_transpose).dot(y)\n",
        "\n",
        "message = \"\"\"<strong>TV, Radio, and Newspaper</strong> <br>\n",
        "$y$ = {:.2f} + {:.2f}$x_{{1}}$ + {:.2f}$x_{{2}}$ + {:.2f}$x_{{3}}$ <br>\n",
        "$x_{{1}}$ = TV <br>\n",
        "$x_{{2}}$ = radio <br>\n",
        "$x_{{3}}$ = newspaper\n",
        "\"\"\".format(*betas[0], *betas[1], *betas[2], *betas[3])\n",
        "display(HTML( message ))\n",
        "\n"
      ],
      "metadata": {
        "id": "h_12JYXQQ_y9",
        "colab": {
          "base_uri": "https://localhost:8080/",
          "height": 191
        },
        "outputId": "da28cd95-fcde-44b4-bd36-b47ef59e0853"
      },
      "execution_count": 20,
      "outputs": [
        {
          "output_type": "display_data",
          "data": {
            "text/plain": [
              "<IPython.core.display.HTML object>"
            ],
            "text/html": [
              "<strong>TV and Radio</strong> <br>\n",
              "$y$ = 2.92 + 0.05$x_{1}$ + 0.19$x_{2}$ <br>\n",
              "$x_{1}$ = TV <br>\n",
              "$x_{2}$ = radio\n"
            ]
          },
          "metadata": {}
        },
        {
          "output_type": "stream",
          "name": "stdout",
          "text": [
            "\n"
          ]
        },
        {
          "output_type": "display_data",
          "data": {
            "text/plain": [
              "<IPython.core.display.HTML object>"
            ],
            "text/html": [
              "<strong>TV, Radio, and Newspaper</strong> <br>\n",
              "$y$ = 2.94 + 0.05$x_{1}$ + 0.19$x_{2}$ + -0.00$x_{3}$ <br>\n",
              "$x_{1}$ = TV <br>\n",
              "$x_{2}$ = radio <br>\n",
              "$x_{3}$ = newspaper\n"
            ]
          },
          "metadata": {}
        }
      ]
    },
    {
      "cell_type": "markdown",
      "source": [
        "**TV, radio Vs. sales:**\n",
        "\n",
        "\n",
        "Input variables are _TV_ ($x_1) and _radio_ ($x_2) and _sales_ is the output variable, $y$. We obtain a multiple linear regression model of $y = 2.92 + 0.05x_{1} + 0.19x_{2}$. Intercept, $\\beta_0$ has been estimated as $2.92$ and two regression coefficients, $\\beta_1$ and $\\beta_2$ have been estimated to $0.05$ and $0.19$ respectively. The values of the parameters through OLS is same to that through `Scikit-Learn`.\n",
        "\n",
        "**TV, radio, newspaper Vs. sales:**\n",
        "\n",
        "\n",
        "\n",
        "\n",
        "\n",
        "_TV_ , _radio_ and _newspaper_are the input variables, $x_1, x_2 and x_3$ respectively and _sales_ is the output variable, $y$. We obtain a multiple linear regression model of $y = 2.94 + 0.05x_{1} + 0.19x_{2} + 0.00x_{3}$; note that each of the estimated model parameters (i.e., $\\beta_{0}$ through $\\beta_{3}$) have been rounded to 2 decimal places.. Intercept, $\\beta_0$ has been estimated as $2.94$ and three regression coefficients, $\\beta_1$, $\\beta_2$ and $\\beta_3$ have been estimated to $0.05$, $0.19$,  and $0.00$ respectively. The values of the parameters through OLS is same to that through `Scikit-Learn`."
      ],
      "metadata": {
        "id": "uyovRUHC6rGf"
      }
    },
    {
      "cell_type": "markdown",
      "source": [
        "# Potential Issues with Ordinary Least Squares\n",
        "OLS tends to find the estimates of parameters such that the _Sum of Squares of Errors, SSE_ is minimum.\n",
        "\n",
        "While deriving the solution, we had made few assumptions. Violation of these assumptions might create serious problems while finding the solution. Some of the assumptions with the potential issues after their violation are:\n",
        "\n",
        "\n",
        "\n",
        "- Existence of $(\\mathbf{X}^{T}\\mathbf{X})^{-1}$\n",
        "\n",
        "  While calculating $\\beta$, we assume that $(\\mathbf{X}^{T}\\mathbf{X})^{-1}$ exists. When doesn't it exist?\n",
        "\n",
        "  The inverse doesn't exist when the matrix, $\\mathbf{X}^{T}\\mathbf{X}$, is not a full rank matrix. The matrix $\\mathbf{X}$ with dimension $n\\times(d+1)$ should have at least $(d+1)$ linearly independent rows to make $\\mathbf{X}^{T}\\mathbf{X}$ a full rank matrix. If there is perfect colinearity between any two independent input variables, then the matrix doesn't become full rank and the issues arise. There should be correlation between dependent(output) and independent(input) variable but the independent variables should be independent of each other.\n",
        "\n",
        "- Existence of $n>>d$\n",
        "\n",
        "  If $n<d+1$, we can not do least squares. Numerous solution are obtained if the number of data points is less than the dimension of the features. So, we need more observations or samples than the number of features.\n",
        "\n",
        "There is another parameter estimation method, _Gradient Descent_, which addresses the issues of Ordinary Least Squares."
      ],
      "metadata": {
        "id": "dJsPQVNO7sqP"
      }
    },
    {
      "cell_type": "code",
      "source": [],
      "metadata": {
        "id": "BcCPT0YD3V7R"
      },
      "execution_count": null,
      "outputs": []
    }
  ]
}